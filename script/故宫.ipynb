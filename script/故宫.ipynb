{
 "cells": [
  {
   "cell_type": "code",
   "execution_count": 4,
   "metadata": {},
   "outputs": [],
   "source": [
    "import requests\n",
    "from bs4 import BeautifulSoup\n",
    "\n",
    "url = 'https://www.stockvault.net/data/2012/12/31/139633/thumb16.jpg'\n",
    "headers = {'User-Agent':'Mozilla/5.0 (Macintosh; Intel Mac OS X 10_15_7) AppleWebKit/537.36 (KHTML, like Gecko) Chrome/101.0.4951.54 Safari/537.36 Edg/101.0.1210.39'}\n",
    "response = requests.get(url,headers=headers)\n",
    "\n",
    "imgContent = response.content\n",
    "with open('/Users/weihj/Desktop/1.jpg','wb') as f:\n",
    "    f.write(imgContent)\n",
    "\n"
   ]
  },
  {
   "cell_type": "code",
   "execution_count": 1,
   "metadata": {},
   "outputs": [],
   "source": [
    "# 是时候展现真正的技术了\n",
    "import requests\n",
    "from bs4 import BeautifulSoup\n",
    "\n",
    "headers = {'User-Agent': 'Mozilla/5.0 (Macintosh; Intel Mac OS X 10_15_7) AppleWebKit/537.36 (KHTML, like Gecko) Chrome/101.0.4951.54 Safari/537.36 Edg/101.0.1210.39'}\n",
    "count = 1\n",
    "for i in range(1,4):\n",
    "    url = f'https://www.dpm.org.cn/lights/royal/p/{i}.html'\n",
    "    response = requests.get(url,headers=headers)\n",
    "    html = response.text\n",
    "    soup = BeautifulSoup(html,'lxml')\n",
    "    content_all = soup.find_all(class_='pic')\n",
    "    \n",
    "    for content in content_all:\n",
    "        imgContent = content.find(name='img')\n",
    "        imgUrl = imgContent.attrs['src']\n",
    "        imgName = imgContent.attrs['alt']\n",
    "        \n",
    "        imgResponse = requests.get(imgUrl,headers=headers)\n",
    "        img = imgResponse.content\n",
    "        with open(f'/Users/weihj/Desktop/python脚本/故宫图片爬虫/pic/{count}.jpg','wb') as f:\n",
    "            f.write(img)\n",
    "        count+=1"
   ]
  },
  {
   "cell_type": "code",
   "execution_count": null,
   "metadata": {},
   "outputs": [],
   "source": [
    "'''\n",
    "Author: WEiHJ\n",
    "Date: 2022-05-15 10:13:56\n",
    "LastEditors: WEiHJ\n",
    "LastEditTime: 2022-05-15 10:21:58\n",
    "FilePath: /undefined/Users/weihj/Desktop/python脚本/故宫图片爬虫/故宫.ipynb\n",
    "Description: \n",
    "\n",
    "'''\n"
   ]
  },
  {
   "cell_type": "code",
   "execution_count": null,
   "metadata": {},
   "outputs": [],
   "source": [
    "pip install git"
   ]
  },
  {
   "cell_type": "code",
   "execution_count": null,
   "metadata": {},
   "outputs": [],
   "source": []
  }
 ],
 "metadata": {
  "interpreter": {
   "hash": "31f2aee4e71d21fbe5cf8b01ff0e069b9275f58929596ceb00d14d90e3e16cd6"
  },
  "kernelspec": {
   "display_name": "Python 3.8.9 64-bit",
   "language": "python",
   "name": "python3"
  },
  "language_info": {
   "codemirror_mode": {
    "name": "ipython",
    "version": 3
   },
   "file_extension": ".py",
   "mimetype": "text/x-python",
   "name": "python",
   "nbconvert_exporter": "python",
   "pygments_lexer": "ipython3",
   "version": "3.8.9"
  },
  "orig_nbformat": 4
 },
 "nbformat": 4,
 "nbformat_minor": 2
}
